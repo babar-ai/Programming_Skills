{
 "cells": [
  {
   "cell_type": "markdown",
   "id": "6eeb58d4",
   "metadata": {},
   "source": [
    "# numpy array tutorial\n"
   ]
  },
  {
   "cell_type": "code",
   "execution_count": 1,
   "id": "9a81b344",
   "metadata": {},
   "outputs": [
    {
     "name": "stdout",
     "output_type": "stream",
     "text": [
      "Requirement already satisfied: pandas in c:\\users\\hh\\anaconda3\\lib\\site-packages (1.5.3)\n",
      "Requirement already satisfied: python-dateutil>=2.8.1 in c:\\users\\hh\\anaconda3\\lib\\site-packages (from pandas) (2.8.2)\n",
      "Requirement already satisfied: pytz>=2020.1 in c:\\users\\hh\\anaconda3\\lib\\site-packages (from pandas) (2022.7)\n",
      "Requirement already satisfied: numpy>=1.21.0 in c:\\users\\hh\\anaconda3\\lib\\site-packages (from pandas) (1.24.3)\n",
      "Requirement already satisfied: six>=1.5 in c:\\users\\hh\\anaconda3\\lib\\site-packages (from python-dateutil>=2.8.1->pandas) (1.16.0)\n"
     ]
    }
   ],
   "source": [
    "!pip install pandas\n"
   ]
  },
  {
   "cell_type": "code",
   "execution_count": 2,
   "id": "1504ab36",
   "metadata": {},
   "outputs": [
    {
     "name": "stdout",
     "output_type": "stream",
     "text": [
      "[[     1 278787      4      3]]\n"
     ]
    }
   ],
   "source": [
    "import numpy as np\n",
    "#marks=np.array([[1,278787,4,r,3]],np.int64) we can not store mix data types data in numpy array\n",
    "marks=np.array([[1,278787,4,3]]) #int64 is the size of a single digit in array\n",
    "print(marks)                              #[] single array/one dimentional \n",
    "                                          #[[]] 2d/two dimentinal array"
   ]
  },
  {
   "cell_type": "code",
   "execution_count": 2,
   "id": "903fae49",
   "metadata": {},
   "outputs": [
    {
     "data": {
      "text/plain": [
       "278787"
      ]
     },
     "execution_count": 2,
     "metadata": {},
     "output_type": "execute_result"
    }
   ],
   "source": [
    "marks[0,1]              #two dimentional array element \n",
    "                        #marks[0] single array element location   "
   ]
  },
  {
   "cell_type": "code",
   "execution_count": 3,
   "id": "bbff7576",
   "metadata": {},
   "outputs": [
    {
     "data": {
      "text/plain": [
       "(1, 4)"
      ]
     },
     "execution_count": 3,
     "metadata": {},
     "output_type": "execute_result"
    }
   ],
   "source": [
    "marks.shape  #this python command will show the dimention of the array where 1=rows, 4= columns"
   ]
  },
  {
   "cell_type": "code",
   "execution_count": 4,
   "id": "3db9088e",
   "metadata": {},
   "outputs": [
    {
     "data": {
      "text/plain": [
       "dtype('int64')"
      ]
     },
     "execution_count": 4,
     "metadata": {},
     "output_type": "execute_result"
    }
   ],
   "source": [
    "marks.dtype           #will show the data type of the array"
   ]
  },
  {
   "cell_type": "markdown",
   "id": "948629a1",
   "metadata": {},
   "source": [
    "# list array\n"
   ]
  },
  {
   "cell_type": "code",
   "execution_count": 5,
   "id": "f636a08c",
   "metadata": {},
   "outputs": [
    {
     "name": "stdout",
     "output_type": "stream",
     "text": [
      "[['1' '2' '3']\n",
      " ['e' '4' '3']\n",
      " ['f' '5' '2']]\n"
     ]
    }
   ],
   "source": [
    "listarray=np.array([[1,2,3],['e',4,3],['f',5,2]]) #in this array we can store multiple data type element\n",
    "print(listarray)"
   ]
  },
  {
   "cell_type": "code",
   "execution_count": 6,
   "id": "904aea06",
   "metadata": {},
   "outputs": [
    {
     "data": {
      "text/plain": [
       "(3, 3)"
      ]
     },
     "execution_count": 6,
     "metadata": {},
     "output_type": "execute_result"
    }
   ],
   "source": [
    "listarray.shape"
   ]
  },
  {
   "cell_type": "code",
   "execution_count": 7,
   "id": "bb29d70c",
   "metadata": {},
   "outputs": [
    {
     "data": {
      "text/plain": [
       "'2'"
      ]
     },
     "execution_count": 7,
     "metadata": {},
     "output_type": "execute_result"
    }
   ],
   "source": [
    "listarray[0,1]"
   ]
  },
  {
   "cell_type": "code",
   "execution_count": 8,
   "id": "7f7a6bb7",
   "metadata": {},
   "outputs": [],
   "source": [
    "zeroarray=np.zeros((2,5))   #this code of line will create zero array "
   ]
  },
  {
   "cell_type": "code",
   "execution_count": 9,
   "id": "7c3dc30f",
   "metadata": {},
   "outputs": [
    {
     "data": {
      "text/plain": [
       "(2, 5)"
      ]
     },
     "execution_count": 9,
     "metadata": {},
     "output_type": "execute_result"
    }
   ],
   "source": [
    "zeroarray.shape"
   ]
  },
  {
   "cell_type": "code",
   "execution_count": 10,
   "id": "9b410f0a",
   "metadata": {},
   "outputs": [
    {
     "data": {
      "text/plain": [
       "array([[0., 0., 0., 0., 0.],\n",
       "       [0., 0., 0., 0., 0.]])"
      ]
     },
     "execution_count": 10,
     "metadata": {},
     "output_type": "execute_result"
    }
   ],
   "source": [
    "zeroarray"
   ]
  },
  {
   "cell_type": "markdown",
   "id": "79980b83",
   "metadata": {},
   "source": [
    "## numpy array"
   ]
  },
  {
   "cell_type": "code",
   "execution_count": 11,
   "id": "9b09d2f5",
   "metadata": {},
   "outputs": [],
   "source": [
    "rangarray=np.arange(15) #this will create a numpy array haveing range n-1"
   ]
  },
  {
   "cell_type": "code",
   "execution_count": 12,
   "id": "66f8c1a4",
   "metadata": {},
   "outputs": [
    {
     "data": {
      "text/plain": [
       "array([ 0,  1,  2,  3,  4,  5,  6,  7,  8,  9, 10, 11, 12, 13, 14])"
      ]
     },
     "execution_count": 12,
     "metadata": {},
     "output_type": "execute_result"
    }
   ],
   "source": [
    "rangarray"
   ]
  },
  {
   "cell_type": "markdown",
   "id": "c86821ea",
   "metadata": {},
   "source": [
    "## linspace\n"
   ]
  },
  {
   "cell_type": "code",
   "execution_count": 13,
   "id": "0cc06f7e",
   "metadata": {},
   "outputs": [],
   "source": [
    "equal_digitspace=np.linspace(1,10,5) #this linspace funtion will gives us equal spaces numbers between 1 to 10"
   ]
  },
  {
   "cell_type": "code",
   "execution_count": 14,
   "id": "789044e0",
   "metadata": {},
   "outputs": [
    {
     "data": {
      "text/plain": [
       "array([ 1.  ,  3.25,  5.5 ,  7.75, 10.  ])"
      ]
     },
     "execution_count": 14,
     "metadata": {},
     "output_type": "execute_result"
    }
   ],
   "source": [
    "equal_digitspace"
   ]
  },
  {
   "cell_type": "markdown",
   "id": "e40eada3",
   "metadata": {},
   "source": [
    "##numpay array"
   ]
  },
  {
   "cell_type": "code",
   "execution_count": 15,
   "id": "edf3174c",
   "metadata": {},
   "outputs": [],
   "source": [
    "myarray=np.arange(55)"
   ]
  },
  {
   "cell_type": "code",
   "execution_count": 16,
   "id": "f9c7e6b8",
   "metadata": {},
   "outputs": [
    {
     "data": {
      "text/plain": [
       "array([ 0,  1,  2,  3,  4,  5,  6,  7,  8,  9, 10, 11, 12, 13, 14, 15, 16,\n",
       "       17, 18, 19, 20, 21, 22, 23, 24, 25, 26, 27, 28, 29, 30, 31, 32, 33,\n",
       "       34, 35, 36, 37, 38, 39, 40, 41, 42, 43, 44, 45, 46, 47, 48, 49, 50,\n",
       "       51, 52, 53, 54])"
      ]
     },
     "execution_count": 16,
     "metadata": {},
     "output_type": "execute_result"
    }
   ],
   "source": [
    "myarray\n"
   ]
  },
  {
   "cell_type": "code",
   "execution_count": 17,
   "id": "6e4e1ea2",
   "metadata": {},
   "outputs": [
    {
     "data": {
      "text/plain": [
       "(55,)"
      ]
     },
     "execution_count": 17,
     "metadata": {},
     "output_type": "execute_result"
    }
   ],
   "source": [
    "myarray.shape"
   ]
  },
  {
   "cell_type": "markdown",
   "id": "db1c9bcd",
   "metadata": {},
   "source": [
    "##now we can change the shape of the  above array"
   ]
  },
  {
   "cell_type": "code",
   "execution_count": 18,
   "id": "269c7dbe",
   "metadata": {},
   "outputs": [
    {
     "data": {
      "text/plain": [
       "array([[ 0,  1,  2,  3,  4,  5,  6,  7,  8,  9, 10],\n",
       "       [11, 12, 13, 14, 15, 16, 17, 18, 19, 20, 21],\n",
       "       [22, 23, 24, 25, 26, 27, 28, 29, 30, 31, 32],\n",
       "       [33, 34, 35, 36, 37, 38, 39, 40, 41, 42, 43],\n",
       "       [44, 45, 46, 47, 48, 49, 50, 51, 52, 53, 54]])"
      ]
     },
     "execution_count": 18,
     "metadata": {},
     "output_type": "execute_result"
    }
   ],
   "source": [
    "myarray.reshape(5,11)       #here we have converted (55,)=(5(rows),(11(columns)))"
   ]
  },
  {
   "cell_type": "markdown",
   "id": "0ab0022e",
   "metadata": {},
   "source": [
    "## numpy axis"
   ]
  },
  {
   "cell_type": "code",
   "execution_count": 19,
   "id": "aa9566bb",
   "metadata": {},
   "outputs": [],
   "source": [
    "array=np.arange(15)"
   ]
  },
  {
   "cell_type": "code",
   "execution_count": 20,
   "id": "3b8b7b01",
   "metadata": {},
   "outputs": [
    {
     "data": {
      "text/plain": [
       "array([ 0,  1,  2,  3,  4,  5,  6,  7,  8,  9, 10, 11, 12, 13, 14])"
      ]
     },
     "execution_count": 20,
     "metadata": {},
     "output_type": "execute_result"
    }
   ],
   "source": [
    "array"
   ]
  },
  {
   "cell_type": "code",
   "execution_count": 21,
   "id": "cc014ad7",
   "metadata": {},
   "outputs": [],
   "source": [
    "narray=array.reshape(3,5)\n"
   ]
  },
  {
   "cell_type": "code",
   "execution_count": 22,
   "id": "97c51ee2",
   "metadata": {},
   "outputs": [
    {
     "data": {
      "text/plain": [
       "array([[ 0,  1,  2,  3,  4],\n",
       "       [ 5,  6,  7,  8,  9],\n",
       "       [10, 11, 12, 13, 14]])"
      ]
     },
     "execution_count": 22,
     "metadata": {},
     "output_type": "execute_result"
    }
   ],
   "source": [
    "narray"
   ]
  },
  {
   "cell_type": "markdown",
   "id": "618ccd00",
   "metadata": {},
   "source": [
    "## now to sum the elements of the row and column of the array"
   ]
  },
  {
   "cell_type": "code",
   "execution_count": 23,
   "id": "bbf05a8f",
   "metadata": {},
   "outputs": [
    {
     "data": {
      "text/plain": [
       "array([15, 18, 21, 24, 27])"
      ]
     },
     "execution_count": 23,
     "metadata": {},
     "output_type": "execute_result"
    }
   ],
   "source": [
    "narray.sum(axis=0)          #where axis=0 represent columns in array "
   ]
  },
  {
   "cell_type": "code",
   "execution_count": 24,
   "id": "9bc35fb7",
   "metadata": {},
   "outputs": [
    {
     "data": {
      "text/plain": [
       "array([10, 35, 60])"
      ]
     },
     "execution_count": 24,
     "metadata": {},
     "output_type": "execute_result"
    }
   ],
   "source": [
    "narray.sum(axis=1)          #where axis=1  [[[axis=1 represent columns in array "
   ]
  },
  {
   "cell_type": "markdown",
   "id": "07fb3968",
   "metadata": {},
   "source": [
    "##array transpose"
   ]
  },
  {
   "cell_type": "code",
   "execution_count": 25,
   "id": "cf767d42",
   "metadata": {},
   "outputs": [
    {
     "data": {
      "text/plain": [
       "array([[ 0,  5, 10],\n",
       "       [ 1,  6, 11],\n",
       "       [ 2,  7, 12],\n",
       "       [ 3,  8, 13],\n",
       "       [ 4,  9, 14]])"
      ]
     },
     "execution_count": 25,
     "metadata": {},
     "output_type": "execute_result"
    }
   ],
   "source": [
    "narray.T"
   ]
  },
  {
   "cell_type": "code",
   "execution_count": 26,
   "id": "26647758",
   "metadata": {},
   "outputs": [],
   "source": [
    "a=narray.flat"
   ]
  },
  {
   "cell_type": "code",
   "execution_count": 27,
   "id": "66fda2e1",
   "metadata": {},
   "outputs": [
    {
     "name": "stdout",
     "output_type": "stream",
     "text": [
      "0\n",
      "1\n",
      "2\n",
      "3\n",
      "4\n",
      "5\n",
      "6\n",
      "7\n",
      "8\n",
      "9\n",
      "10\n",
      "11\n",
      "12\n",
      "13\n",
      "14\n"
     ]
    }
   ],
   "source": [
    "for items in a:\n",
    "    print(items)\n"
   ]
  },
  {
   "cell_type": "code",
   "execution_count": 28,
   "id": "dcbbbf99",
   "metadata": {},
   "outputs": [],
   "source": [
    "d_array=np.array(a)   #convertion back form flat to numpy array\n"
   ]
  },
  {
   "cell_type": "code",
   "execution_count": 29,
   "id": "cb34e84b",
   "metadata": {},
   "outputs": [
    {
     "data": {
      "text/plain": [
       "array([ 0,  1,  2,  3,  4,  5,  6,  7,  8,  9, 10, 11, 12, 13, 14])"
      ]
     },
     "execution_count": 29,
     "metadata": {},
     "output_type": "execute_result"
    }
   ],
   "source": [
    "d_array"
   ]
  },
  {
   "cell_type": "code",
   "execution_count": 30,
   "id": "1af89478",
   "metadata": {},
   "outputs": [
    {
     "data": {
      "text/plain": [
       "60"
      ]
     },
     "execution_count": 30,
     "metadata": {},
     "output_type": "execute_result"
    }
   ],
   "source": [
    "d_array.nbytes   #size than by this array"
   ]
  },
  {
   "cell_type": "code",
   "execution_count": 31,
   "id": "60323bc3",
   "metadata": {},
   "outputs": [
    {
     "data": {
      "text/plain": [
       "array([[ 0,  1,  2,  3,  4],\n",
       "       [ 5,  6,  7,  8,  9],\n",
       "       [10, 11, 12, 13, 14]])"
      ]
     },
     "execution_count": 31,
     "metadata": {},
     "output_type": "execute_result"
    }
   ],
   "source": [
    "d_array.reshape(3,5)"
   ]
  },
  {
   "cell_type": "code",
   "execution_count": 32,
   "id": "42e9f282",
   "metadata": {},
   "outputs": [
    {
     "data": {
      "text/plain": [
       "array([ 0,  1,  2,  3,  4,  5,  6,  7,  8,  9, 10, 11, 12, 13, 14])"
      ]
     },
     "execution_count": 32,
     "metadata": {},
     "output_type": "execute_result"
    }
   ],
   "source": [
    "d_array.ravel()  ##this is an important function used to convert 2 diemton array into single line"
   ]
  },
  {
   "cell_type": "code",
   "execution_count": 33,
   "id": "ea37182c",
   "metadata": {},
   "outputs": [],
   "source": [
    "one_array=np.array([1,0,3,41,5])"
   ]
  },
  {
   "cell_type": "code",
   "execution_count": 34,
   "id": "1ea29e53",
   "metadata": {},
   "outputs": [
    {
     "data": {
      "text/plain": [
       "3"
      ]
     },
     "execution_count": 34,
     "metadata": {},
     "output_type": "execute_result"
    }
   ],
   "source": [
    "one_array.argmax() #this funtion will show you the position of max entry in you array."
   ]
  },
  {
   "cell_type": "code",
   "execution_count": 35,
   "id": "4d11fd83",
   "metadata": {},
   "outputs": [
    {
     "data": {
      "text/plain": [
       "1"
      ]
     },
     "execution_count": 35,
     "metadata": {},
     "output_type": "execute_result"
    }
   ],
   "source": [
    "one_array.argmin() "
   ]
  },
  {
   "cell_type": "code",
   "execution_count": 36,
   "id": "5fb92197",
   "metadata": {},
   "outputs": [
    {
     "data": {
      "text/plain": [
       "array([1, 0, 2, 4, 3], dtype=int64)"
      ]
     },
     "execution_count": 36,
     "metadata": {},
     "output_type": "execute_result"
    }
   ],
   "source": [
    "one_array.argsort()             ##this funtion is used to display the postion of arrays element according to there "
   ]
  },
  {
   "cell_type": "code",
   "execution_count": 37,
   "id": "0848a68c",
   "metadata": {},
   "outputs": [
    {
     "data": {
      "text/plain": [
       "array([ 0,  1,  2,  3,  4,  5,  6,  7,  8,  9, 10, 11, 12, 13, 14],\n",
       "      dtype=int64)"
      ]
     },
     "execution_count": 37,
     "metadata": {},
     "output_type": "execute_result"
    }
   ],
   "source": [
    "d_array.argsort(axis=0)"
   ]
  },
  {
   "cell_type": "code",
   "execution_count": 38,
   "id": "ecf56dcf",
   "metadata": {},
   "outputs": [
    {
     "data": {
      "text/plain": [
       "array([[ 0,  1,  2,  3,  4],\n",
       "       [ 5,  6,  7,  8,  9],\n",
       "       [10, 11, 12, 13, 14]])"
      ]
     },
     "execution_count": 38,
     "metadata": {},
     "output_type": "execute_result"
    }
   ],
   "source": [
    "d_array.reshape(3,5)"
   ]
  },
  {
   "cell_type": "code",
   "execution_count": 39,
   "id": "7deab89e",
   "metadata": {},
   "outputs": [],
   "source": [
    "new_arr=np.arange(9)"
   ]
  },
  {
   "cell_type": "code",
   "execution_count": 40,
   "id": "84232bd0",
   "metadata": {},
   "outputs": [
    {
     "data": {
      "text/plain": [
       "array([0, 1, 2, 3, 4, 5, 6, 7, 8])"
      ]
     },
     "execution_count": 40,
     "metadata": {},
     "output_type": "execute_result"
    }
   ],
   "source": [
    "new_arr"
   ]
  },
  {
   "cell_type": "code",
   "execution_count": 41,
   "id": "f33123dc",
   "metadata": {},
   "outputs": [],
   "source": [
    "new_array=new_arr.reshape(3,3)"
   ]
  },
  {
   "cell_type": "code",
   "execution_count": 42,
   "id": "13fece86",
   "metadata": {},
   "outputs": [],
   "source": [
    "new_arr2=np.array([[0, 6, 2],\n",
    "       [3, 0, 5],\n",
    "       [6, 7, 3]])"
   ]
  },
  {
   "cell_type": "code",
   "execution_count": 44,
   "id": "44a0ab3d",
   "metadata": {},
   "outputs": [
    {
     "data": {
      "text/plain": [
       "array([[0, 1, 2],\n",
       "       [3, 4, 5],\n",
       "       [6, 7, 8]])"
      ]
     },
     "execution_count": 44,
     "metadata": {},
     "output_type": "execute_result"
    }
   ],
   "source": [
    "new_array"
   ]
  },
  {
   "cell_type": "markdown",
   "id": "99143f52",
   "metadata": {},
   "source": [
    "## matrixs operations"
   ]
  },
  {
   "cell_type": "code",
   "execution_count": 45,
   "id": "efddaf28",
   "metadata": {},
   "outputs": [
    {
     "data": {
      "text/plain": [
       "array([[0, 6, 2],\n",
       "       [3, 0, 5],\n",
       "       [6, 7, 3]])"
      ]
     },
     "execution_count": 45,
     "metadata": {},
     "output_type": "execute_result"
    }
   ],
   "source": [
    "new_arr2"
   ]
  },
  {
   "cell_type": "code",
   "execution_count": 46,
   "id": "fadc2eb4",
   "metadata": {},
   "outputs": [
    {
     "data": {
      "text/plain": [
       "array([[ 0,  7,  4],\n",
       "       [ 6,  4, 10],\n",
       "       [12, 14, 11]])"
      ]
     },
     "execution_count": 46,
     "metadata": {},
     "output_type": "execute_result"
    }
   ],
   "source": [
    "new_array+new_arr2"
   ]
  },
  {
   "cell_type": "markdown",
   "id": "577cf916",
   "metadata": {},
   "source": [
    "## matrix multiplication"
   ]
  },
  {
   "cell_type": "code",
   "execution_count": 47,
   "id": "af424d7b",
   "metadata": {},
   "outputs": [
    {
     "data": {
      "text/plain": [
       "array([[ 0,  6,  4],\n",
       "       [ 9,  0, 25],\n",
       "       [36, 49, 24]])"
      ]
     },
     "execution_count": 47,
     "metadata": {},
     "output_type": "execute_result"
    }
   ],
   "source": [
    "new_array*new_arr2            ##there is problem with this fucntion "
   ]
  },
  {
   "cell_type": "code",
   "execution_count": 58,
   "id": "b31a3b44",
   "metadata": {},
   "outputs": [
    {
     "name": "stdout",
     "output_type": "stream",
     "text": [
      "[[15 14 11]\n",
      " [42 53 41]\n",
      " [69 92 71]]\n"
     ]
    }
   ],
   "source": [
    "new_matrix=np.dot(new_array,new_arr2) ##wow amazing here is the correct fuction for two matrix multiplicatin\n",
    "print(new_matrix)"
   ]
  },
  {
   "cell_type": "markdown",
   "id": "07f6c72d",
   "metadata": {},
   "source": [
    "##square_root of martrix elements"
   ]
  },
  {
   "cell_type": "code",
   "execution_count": 53,
   "id": "72f7dc2c",
   "metadata": {},
   "outputs": [
    {
     "name": "stdout",
     "output_type": "stream",
     "text": [
      "[[3.87298335 3.74165739 3.31662479]\n",
      " [6.4807407  7.28010989 6.40312424]\n",
      " [8.30662386 9.59166305 8.42614977]]\n"
     ]
    }
   ],
   "source": [
    "square_new_matrix=np.sqrt(new_matrix)\n",
    "print(square_new_matrix)"
   ]
  },
  {
   "cell_type": "code",
   "execution_count": 60,
   "id": "7517c30b",
   "metadata": {},
   "outputs": [
    {
     "data": {
      "text/plain": [
       "(array([0, 0, 0, 1, 1], dtype=int64), array([0, 1, 2, 0, 2], dtype=int64))"
      ]
     },
     "execution_count": 60,
     "metadata": {},
     "output_type": "execute_result"
    }
   ],
   "source": [
    "np.where(new_matrix<50)"
   ]
  },
  {
   "cell_type": "code",
   "execution_count": null,
   "id": "7c802e4c",
   "metadata": {},
   "outputs": [],
   "source": []
  },
  {
   "cell_type": "code",
   "execution_count": null,
   "id": "e3afba1c",
   "metadata": {},
   "outputs": [],
   "source": []
  }
 ],
 "metadata": {
  "kernelspec": {
   "display_name": "Python 3 (ipykernel)",
   "language": "python",
   "name": "python3"
  },
  "language_info": {
   "codemirror_mode": {
    "name": "ipython",
    "version": 3
   },
   "file_extension": ".py",
   "mimetype": "text/x-python",
   "name": "python",
   "nbconvert_exporter": "python",
   "pygments_lexer": "ipython3",
   "version": "3.11.3"
  }
 },
 "nbformat": 4,
 "nbformat_minor": 5
}
