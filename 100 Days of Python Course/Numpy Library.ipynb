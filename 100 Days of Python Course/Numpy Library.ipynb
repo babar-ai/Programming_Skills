{
 "cells": [
  {
   "cell_type": "code",
   "execution_count": 1,
   "id": "47a20d0b",
   "metadata": {},
   "outputs": [],
   "source": [
    "import numpy as np"
   ]
  },
  {
   "cell_type": "code",
   "execution_count": 2,
   "id": "522bd9fc",
   "metadata": {},
   "outputs": [],
   "source": [
    "list=[1,2,3,4,5]\n",
    "list1=[1,2,3,4,5]\n",
    "list2=[1,2,3,4,5]"
   ]
  },
  {
   "cell_type": "code",
   "execution_count": 3,
   "id": "afd30a9c",
   "metadata": {},
   "outputs": [],
   "source": [
    "arr=np.array(list)"
   ]
  },
  {
   "cell_type": "code",
   "execution_count": 4,
   "id": "d2fe2a0c",
   "metadata": {},
   "outputs": [
    {
     "data": {
      "text/plain": [
       "(5,)"
      ]
     },
     "execution_count": 4,
     "metadata": {},
     "output_type": "execute_result"
    }
   ],
   "source": [
    "arr.shape"
   ]
  },
  {
   "cell_type": "markdown",
   "id": "984d8156",
   "metadata": {},
   "source": [
    "**to make a 2D array\n"
   ]
  },
  {
   "cell_type": "code",
   "execution_count": 5,
   "id": "86f3a5cc",
   "metadata": {},
   "outputs": [],
   "source": [
    "_2darr =np.array([list,list1,list2])"
   ]
  },
  {
   "cell_type": "code",
   "execution_count": 6,
   "id": "bc15c6f7",
   "metadata": {},
   "outputs": [
    {
     "data": {
      "text/plain": [
       "array([[1, 2, 3, 4, 5],\n",
       "       [1, 2, 3, 4, 5],\n",
       "       [1, 2, 3, 4, 5]])"
      ]
     },
     "execution_count": 6,
     "metadata": {},
     "output_type": "execute_result"
    }
   ],
   "source": [
    "_2darr"
   ]
  },
  {
   "cell_type": "code",
   "execution_count": 7,
   "id": "5205b971",
   "metadata": {},
   "outputs": [
    {
     "data": {
      "text/plain": [
       "array([[1, 2, 3, 4, 5],\n",
       "       [1, 2, 3, 4, 5],\n",
       "       [1, 2, 3, 4, 5]])"
      ]
     },
     "execution_count": 7,
     "metadata": {},
     "output_type": "execute_result"
    }
   ],
   "source": [
    "_2darr[::]"
   ]
  },
  {
   "cell_type": "code",
   "execution_count": 8,
   "id": "4e330858",
   "metadata": {},
   "outputs": [
    {
     "data": {
      "text/plain": [
       "array([3, 3, 3])"
      ]
     },
     "execution_count": 8,
     "metadata": {},
     "output_type": "execute_result"
    }
   ],
   "source": [
    "_2darr[:,2]"
   ]
  },
  {
   "cell_type": "code",
   "execution_count": 9,
   "id": "fb882fca",
   "metadata": {},
   "outputs": [
    {
     "data": {
      "text/plain": [
       "array([5, 5, 5])"
      ]
     },
     "execution_count": 9,
     "metadata": {},
     "output_type": "execute_result"
    }
   ],
   "source": [
    "_2darr[:,4]"
   ]
  },
  {
   "cell_type": "markdown",
   "id": "6c1bc9e5",
   "metadata": {},
   "source": [
    "**to print array in reverse order"
   ]
  },
  {
   "cell_type": "code",
   "execution_count": 10,
   "id": "65448e32",
   "metadata": {},
   "outputs": [
    {
     "data": {
      "text/plain": [
       "array([5, 4, 3, 2, 1])"
      ]
     },
     "execution_count": 10,
     "metadata": {},
     "output_type": "execute_result"
    }
   ],
   "source": [
    "arr[::-1]"
   ]
  },
  {
   "cell_type": "code",
   "execution_count": 11,
   "id": "01f5c605",
   "metadata": {},
   "outputs": [
    {
     "data": {
      "text/plain": [
       "array([[3, 4, 5],\n",
       "       [3, 4, 5]])"
      ]
     },
     "execution_count": 11,
     "metadata": {},
     "output_type": "execute_result"
    }
   ],
   "source": [
    "_2darr[1:,2:] "
   ]
  },
  {
   "cell_type": "code",
   "execution_count": 12,
   "id": "3f43f0a7",
   "metadata": {},
   "outputs": [
    {
     "data": {
      "text/plain": [
       "array([[1, 2],\n",
       "       [1, 2],\n",
       "       [1, 2]])"
      ]
     },
     "execution_count": 12,
     "metadata": {},
     "output_type": "execute_result"
    }
   ],
   "source": [
    "_2darr[:,:2]"
   ]
  },
  {
   "cell_type": "markdown",
   "id": "86e9c698",
   "metadata": {},
   "source": [
    "**condition apply to array to return the minimum value in array\n"
   ]
  },
  {
   "cell_type": "code",
   "execution_count": 13,
   "id": "b525dd4e",
   "metadata": {},
   "outputs": [
    {
     "data": {
      "text/plain": [
       "array([1])"
      ]
     },
     "execution_count": 13,
     "metadata": {},
     "output_type": "execute_result"
    }
   ],
   "source": [
    "arr[arr<2]"
   ]
  },
  {
   "cell_type": "markdown",
   "id": "31c878e0",
   "metadata": {},
   "source": [
    "**to reshape an array structure"
   ]
  },
  {
   "cell_type": "code",
   "execution_count": 14,
   "id": "79d41e6e",
   "metadata": {},
   "outputs": [
    {
     "data": {
      "text/plain": [
       "array([[1, 2, 3],\n",
       "       [4, 5, 1],\n",
       "       [2, 3, 4],\n",
       "       [5, 1, 2],\n",
       "       [3, 4, 5]])"
      ]
     },
     "execution_count": 14,
     "metadata": {},
     "output_type": "execute_result"
    }
   ],
   "source": [
    "_2darr.reshape(5,3)"
   ]
  },
  {
   "cell_type": "markdown",
   "id": "af01a5ca",
   "metadata": {},
   "source": [
    "*anther way to declare array"
   ]
  },
  {
   "cell_type": "code",
   "execution_count": 15,
   "id": "26a867b1",
   "metadata": {},
   "outputs": [
    {
     "data": {
      "text/plain": [
       "array([[ 1,  2,  3],\n",
       "       [ 4,  5,  6],\n",
       "       [ 7,  8,  9],\n",
       "       [10, 11, 12],\n",
       "       [13, 14, 15]])"
      ]
     },
     "execution_count": 15,
     "metadata": {},
     "output_type": "execute_result"
    }
   ],
   "source": [
    "np.arange(1,16,1).reshape(5,3)\n",
    "                          "
   ]
  },
  {
   "cell_type": "code",
   "execution_count": 16,
   "id": "d9ace3ad",
   "metadata": {},
   "outputs": [],
   "source": [
    "_2darray2=np.arange(1,16,1).reshape(3,5)"
   ]
  },
  {
   "cell_type": "markdown",
   "id": "97fe2042",
   "metadata": {},
   "source": [
    "**array multiplication"
   ]
  },
  {
   "cell_type": "code",
   "execution_count": 17,
   "id": "61614472",
   "metadata": {},
   "outputs": [
    {
     "data": {
      "text/plain": [
       "array([[ 1,  4,  9, 16, 25],\n",
       "       [ 6, 14, 24, 36, 50],\n",
       "       [11, 24, 39, 56, 75]])"
      ]
     },
     "execution_count": 17,
     "metadata": {},
     "output_type": "execute_result"
    }
   ],
   "source": [
    "_2darr*_2darray2"
   ]
  },
  {
   "cell_type": "markdown",
   "id": "21cd2245",
   "metadata": {},
   "source": [
    "**to genrate random array element\n"
   ]
  },
  {
   "cell_type": "code",
   "execution_count": 18,
   "id": "5690fe77",
   "metadata": {},
   "outputs": [
    {
     "data": {
      "text/plain": [
       "array([49, 10, 25, 19])"
      ]
     },
     "execution_count": 18,
     "metadata": {},
     "output_type": "execute_result"
    }
   ],
   "source": [
    "np.random.randint(10,60,4)"
   ]
  },
  {
   "cell_type": "code",
   "execution_count": 19,
   "id": "549bc7c1",
   "metadata": {},
   "outputs": [
    {
     "data": {
      "text/plain": [
       "array([0.30809374, 0.58455628, 0.88514088])"
      ]
     },
     "execution_count": 19,
     "metadata": {},
     "output_type": "execute_result"
    }
   ],
   "source": [
    "np.random.random_sample(3)"
   ]
  },
  {
   "cell_type": "code",
   "execution_count": 20,
   "id": "b1b38ce3",
   "metadata": {},
   "outputs": [
    {
     "data": {
      "text/plain": [
       "array([[[-2.76853430e+00, -1.30662538e+00, -7.49139311e-01,\n",
       "         -1.38195064e+00],\n",
       "        [ 1.16180600e-01, -2.15822545e-01, -5.17666446e-01,\n",
       "          1.29698738e+00],\n",
       "        [ 8.58160832e-01,  8.39263407e-01,  4.13364348e-01,\n",
       "         -3.08033657e-01],\n",
       "        ...,\n",
       "        [ 2.96916017e-01,  1.27737581e+00, -2.73403098e-01,\n",
       "         -1.84290577e-03],\n",
       "        [-4.00255363e-01,  1.48188305e+00, -8.08445158e-01,\n",
       "         -1.10865330e+00],\n",
       "        [ 5.93493301e-01,  1.18502866e+00, -7.22874658e-01,\n",
       "          5.14703129e-02]],\n",
       "\n",
       "       [[-7.68975450e-01,  8.09185833e-01,  1.14633474e+00,\n",
       "         -1.53305445e-01],\n",
       "        [-1.44681601e+00,  6.58585821e-01, -1.47685656e+00,\n",
       "          8.37251618e-01],\n",
       "        [-1.54856718e-01,  2.05092677e+00, -1.64811945e+00,\n",
       "         -6.33397867e-01],\n",
       "        ...,\n",
       "        [-1.45435558e+00, -1.06231808e+00,  2.97476900e-01,\n",
       "          2.71537273e-01],\n",
       "        [-9.83697039e-01, -2.27721219e-01, -6.20605676e-01,\n",
       "         -7.23963975e-01],\n",
       "        [ 1.91262618e+00,  6.75357379e-01,  8.72298605e-01,\n",
       "         -2.37167389e+00]],\n",
       "\n",
       "       [[-2.53589420e-01,  5.68760114e-01,  3.02696162e-01,\n",
       "          5.75061095e-01],\n",
       "        [-6.39939054e-01, -1.75673604e+00, -1.62047231e+00,\n",
       "         -8.48945406e-01],\n",
       "        [-6.59479151e-01,  8.77639297e-01, -1.70478876e-01,\n",
       "         -6.28335232e-01],\n",
       "        ...,\n",
       "        [ 2.66141452e-01, -5.57918656e-02, -5.54698549e-01,\n",
       "          1.20721543e+00],\n",
       "        [-6.20701255e-02, -3.67201450e-01, -2.61085434e-01,\n",
       "          6.62812089e-01],\n",
       "        [-1.41413414e+00, -4.13831227e-01,  1.10535501e+00,\n",
       "         -1.18000954e+00]],\n",
       "\n",
       "       ...,\n",
       "\n",
       "       [[-1.06076612e+00,  1.27223652e-01,  1.19958964e+00,\n",
       "          6.36819239e-03],\n",
       "        [ 6.51975155e-01,  9.16592220e-01, -2.83850170e-01,\n",
       "         -2.66292386e+00],\n",
       "        [-9.04500730e-01,  4.65162021e-01, -7.04474039e-01,\n",
       "         -7.79680780e-01],\n",
       "        ...,\n",
       "        [-4.93989121e-03,  8.95640624e-01, -1.67384802e-01,\n",
       "          9.12554160e-01],\n",
       "        [-8.82014236e-01,  2.25866716e-01, -1.20079591e+00,\n",
       "          9.47257473e-01],\n",
       "        [ 6.71551549e-01,  6.31660146e-01,  5.25859659e-01,\n",
       "          4.64083360e-01]],\n",
       "\n",
       "       [[-1.01243483e+00,  6.79377460e-01, -6.66223937e-01,\n",
       "         -9.34683736e-01],\n",
       "        [-6.68574991e-01,  6.41879619e-01,  4.21627067e-01,\n",
       "         -9.78774511e-02],\n",
       "        [-6.74488350e-01, -4.45860580e-01,  9.45769258e-01,\n",
       "         -4.58296523e-01],\n",
       "        ...,\n",
       "        [ 7.12866136e-01,  2.09919049e-01, -7.80480007e-01,\n",
       "         -8.50170482e-01],\n",
       "        [ 6.94061910e-01, -2.82490773e-01, -1.67092224e-01,\n",
       "          1.67500122e-01],\n",
       "        [-2.39349800e+00,  1.28576606e+00, -8.49782048e-01,\n",
       "         -2.64568991e+00]],\n",
       "\n",
       "       [[ 8.08474215e-02, -9.07328913e-01,  4.51906543e-01,\n",
       "          3.17950911e-01],\n",
       "        [-1.46204785e-01,  3.80746227e-01, -1.36139491e+00,\n",
       "         -2.19248924e+00],\n",
       "        [ 1.06103416e+00, -2.65558765e-01,  1.17642379e+00,\n",
       "          6.28577343e-01],\n",
       "        ...,\n",
       "        [ 4.76918253e-01,  1.35608518e+00,  1.03155859e+00,\n",
       "          2.41676776e-01],\n",
       "        [-8.82007325e-01, -2.22256756e+00,  7.86476573e-01,\n",
       "          8.49701298e-01],\n",
       "        [-7.49094258e-01,  1.94558859e+00, -9.97609652e-01,\n",
       "         -1.43747617e+00]]])"
      ]
     },
     "execution_count": 20,
     "metadata": {},
     "output_type": "execute_result"
    }
   ],
   "source": [
    "np.random.randn(10,60,4)"
   ]
  },
  {
   "cell_type": "code",
   "execution_count": 23,
   "id": "85f98087",
   "metadata": {},
   "outputs": [
    {
     "data": {
      "text/plain": [
       "array([[-0.55535856,  0.87208392, -1.07080657, -0.27247628,  2.54949818,\n",
       "         0.49160343,  0.74147792,  0.23542158, -0.13098105, -0.73016636],\n",
       "       [-0.89779735, -0.94077271,  0.38279611, -0.20729947,  0.15221868,\n",
       "         1.76276286,  0.0705011 , -0.53234819, -0.39933847,  0.97665974],\n",
       "       [ 0.17014346, -0.54335744, -0.47213007, -0.04956768,  1.91628165,\n",
       "        -0.87083438,  0.12018859, -0.06407218,  0.0485962 , -1.21674482],\n",
       "       [ 0.10503427, -2.01873393, -0.84111777,  0.70187763,  0.638553  ,\n",
       "         0.5936222 , -0.49450951,  0.76533679, -0.47032995,  1.46972913],\n",
       "       [ 1.76842407,  1.09880984,  1.60759004,  0.50243775, -0.12260505,\n",
       "         1.64393163,  1.26826058, -1.7444417 , -0.65542742, -0.84881596]])"
      ]
     },
     "execution_count": 23,
     "metadata": {},
     "output_type": "execute_result"
    }
   ],
   "source": [
    "np.random.randn(5,10) "
   ]
  },
  {
   "cell_type": "code",
   "execution_count": 26,
   "id": "f79fe7de",
   "metadata": {
    "scrolled": true
   },
   "outputs": [
    {
     "data": {
      "text/plain": [
       "2"
      ]
     },
     "execution_count": 26,
     "metadata": {},
     "output_type": "execute_result"
    }
   ],
   "source": [
    "np.random.randint(6)  #this will genrate random inter between 0,5"
   ]
  },
  {
   "cell_type": "code",
   "execution_count": null,
   "id": "1a47f76a",
   "metadata": {},
   "outputs": [],
   "source": []
  }
 ],
 "metadata": {
  "kernelspec": {
   "display_name": "Python 3 (ipykernel)",
   "language": "python",
   "name": "python3"
  },
  "language_info": {
   "codemirror_mode": {
    "name": "ipython",
    "version": 3
   },
   "file_extension": ".py",
   "mimetype": "text/x-python",
   "name": "python",
   "nbconvert_exporter": "python",
   "pygments_lexer": "ipython3",
   "version": "3.11.5"
  }
 },
 "nbformat": 4,
 "nbformat_minor": 5
}
